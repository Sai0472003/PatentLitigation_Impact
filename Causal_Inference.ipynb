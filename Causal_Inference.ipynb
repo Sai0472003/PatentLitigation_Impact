{
  "nbformat": 4,
  "nbformat_minor": 0,
  "metadata": {
    "colab": {
      "provenance": [],
      "authorship_tag": "ABX9TyMO60UmN/cpfBfsYg6g7j/1",
      "include_colab_link": true
    },
    "kernelspec": {
      "name": "python3",
      "display_name": "Python 3"
    },
    "language_info": {
      "name": "python"
    }
  },
  "cells": [
    {
      "cell_type": "markdown",
      "metadata": {
        "id": "view-in-github",
        "colab_type": "text"
      },
      "source": [
        "<a href=\"https://colab.research.google.com/github/Sai0472003/PatentLitigation_Impact/blob/main/Causal_Inference.ipynb\" target=\"_parent\"><img src=\"https://colab.research.google.com/assets/colab-badge.svg\" alt=\"Open In Colab\"/></a>"
      ]
    },
    {
      "cell_type": "code",
      "source": [
        "import pandas as pd\n",
        "import numpy as np\n",
        "import matplotlib.pyplot as plt\n",
        "import seaborn as sns\n",
        "import warnings\n",
        "warnings.filterwarnings('ignore')\n",
        "\n",
        "from google.colab import drive\n",
        "drive.mount('/content/drive')"
      ],
      "metadata": {
        "colab": {
          "base_uri": "https://localhost:8080/"
        },
        "id": "-bEIBQyWZ3uV",
        "outputId": "9b898c42-4023-4c5a-b7e7-bfb81780449e"
      },
      "execution_count": 1,
      "outputs": [
        {
          "output_type": "stream",
          "name": "stdout",
          "text": [
            "Mounted at /content/drive\n"
          ]
        }
      ]
    },
    {
      "cell_type": "code",
      "source": [
        "clean_plaintiff_RnD = pd.read_csv('/content/drive/My Drive/ECO225_Final_Project/DATA/clean_plaintiff_RnD.csv')\n",
        "clean_defendent_RnD = pd.read_csv('/content/drive/My Drive/ECO225_Final_Project/DATA/clean_defendent_RnD.csv')\n",
        "\n",
        "clean_plaintiff_npm = pd.read_csv('/content/drive/My Drive/ECO225_Final_Project/DATA/clean_plaintiff_npm.csv')\n",
        "clean_defendent_npm = pd.read_csv('/content/drive/My Drive/ECO225_Final_Project/DATA/clean_defendent_npm.csv')\n",
        "\n",
        "pd.set_option('display.max_columns', None)"
      ],
      "metadata": {
        "id": "Qc3wlgmEaJYy"
      },
      "execution_count": 6,
      "outputs": []
    },
    {
      "cell_type": "code",
      "source": [
        "clean_plaintiff_RnD.columns"
      ],
      "metadata": {
        "colab": {
          "base_uri": "https://localhost:8080/"
        },
        "id": "KH34-UMcaray",
        "outputId": "650273a3-7872-445b-e462-7146023b2c34"
      },
      "execution_count": 8,
      "outputs": [
        {
          "output_type": "execute_result",
          "data": {
            "text/plain": [
              "Index(['case_row_id', 'case_number', 'date_filed', 'date_closed', 'PLT',\n",
              "       'filing_quarter_rnd', 'closing_quarter_rnd', 'minus_one_rnd',\n",
              "       'minus_two_rnd', 'minus_three_rnd', 'plus_one_rnd', 'plus_two_rnd',\n",
              "       'plus_three_rnd', 'state_province', 'delta_rnd_sales', 'case_length',\n",
              "       'materials', 'industrials', 'consumer_discretionary', 'info_tech',\n",
              "       'health_care', 'CIRCUIT', 'DISTRICT', 'OFFICE', 'JURIS', 'NOS',\n",
              "       'CLASSACT', 'COUNTY', 'DEF', 'disp_before_issue_joined',\n",
              "       'disp_transferred', 'disp_dismissed', 'disp_settled', 'disp_judgment',\n",
              "       'judgment_monetary_award', 'judgment_injunction',\n",
              "       'judgment_ordered_loss', 'judgment_for_plaintiff',\n",
              "       'judgment_for_defendent', 'judgment_for_both', 'jury_demand_plaintiff',\n",
              "       'jury_demand_defendent', 'jury_demand_both', 'infringement_35_271'],\n",
              "      dtype='object')"
            ]
          },
          "metadata": {},
          "execution_count": 8
        }
      ]
    }
  ]
}