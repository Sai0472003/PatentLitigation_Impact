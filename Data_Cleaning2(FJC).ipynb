{
  "nbformat": 4,
  "nbformat_minor": 0,
  "metadata": {
    "colab": {
      "provenance": [],
      "machine_shape": "hm",
      "authorship_tag": "ABX9TyPHKRFgjlXaOMb8uQcUAFGF",
      "include_colab_link": true
    },
    "kernelspec": {
      "name": "python3",
      "display_name": "Python 3"
    },
    "language_info": {
      "name": "python"
    }
  },
  "cells": [
    {
      "cell_type": "markdown",
      "metadata": {
        "id": "view-in-github",
        "colab_type": "text"
      },
      "source": [
        "<a href=\"https://colab.research.google.com/github/Sai0472003/PatentLitigation_Impact/blob/main/Data_Cleaning2(FJC).ipynb\" target=\"_parent\"><img src=\"https://colab.research.google.com/assets/colab-badge.svg\" alt=\"Open In Colab\"/></a>"
      ]
    },
    {
      "cell_type": "markdown",
      "source": [
        "# Causal effect of Patent Litigation Outcomes on Firm Financials\n"
      ],
      "metadata": {
        "id": "uCz8kyJOLj4h"
      }
    },
    {
      "cell_type": "code",
      "source": [
        "import pandas as pd\n",
        "import numpy as np\n",
        "import matplotlib.pyplot as plt\n",
        "import seaborn as sns\n",
        "\n",
        "from google.colab import drive\n",
        "drive.mount('/content/drive/')"
      ],
      "metadata": {
        "colab": {
          "base_uri": "https://localhost:8080/"
        },
        "id": "Oc7iRlaB79nx",
        "outputId": "f3456fea-e5c5-4033-8c6f-9a9fc7708f45"
      },
      "execution_count": 1,
      "outputs": [
        {
          "output_type": "stream",
          "name": "stdout",
          "text": [
            "Mounted at /content/drive/\n"
          ]
        }
      ]
    },
    {
      "cell_type": "code",
      "execution_count": 2,
      "metadata": {
        "id": "qKBf8QGqLjPq",
        "colab": {
          "base_uri": "https://localhost:8080/"
        },
        "outputId": "92048337-c4ae-4db5-9d76-b7db29559898"
      },
      "outputs": [
        {
          "output_type": "stream",
          "name": "stderr",
          "text": [
            "<ipython-input-2-caae5146eea8>:1: DtypeWarning: Columns (1,2,9,10,11,13,19,20,23,24,26,38,39,40,41,43,44) have mixed types. Specify dtype option on import or set low_memory=False.\n",
            "  JFC_1988_Present = pd.read_csv('/content/drive/MyDrive/ECO225_Final_Project/PART1/Civil_1988_to_Present.txt', sep='\\t', encoding='latin1')\n"
          ]
        }
      ],
      "source": [
        "JFC_1988_Present = pd.read_csv('/content/drive/MyDrive/ECO225_Final_Project/PART1/Civil_1988_to_Present.txt', sep='\\t', encoding='latin1')"
      ]
    },
    {
      "cell_type": "code",
      "source": [
        "#ISOLATING PANTENT AND TRADENARK INFRINGEMENT SUITES, AND ONLY ORIGINAL PROCEEDINGS\n",
        "#Patents_1988_forwards = pd.DataFrame(JFC_1988_Present[JFC_1988_Present['NOS'].isin([830, 840])]) #only patent/trademark cases\n",
        "#Patents_1988_forwards  = Patents_1988_forwards[Patents_1988_forwards ['ORIGIN'] == 1] #only original filings\n",
        "#Patents_1988_forwards  = Patents_1988_forwards[Patents_1988_forwards ['ARBIT'].astype(str) == '-8'] #no formal arbitration courts\n",
        "\n",
        "clean_JFC_patents = JFC_1988_Present.copy()\n",
        "\n",
        "#removing columns that aren't relavent or mostly empty\n",
        "clean_JFC_patents.drop(columns=['ORIGIN','TITL', 'SECTION', 'SUBSECT', 'ARBIT',\n",
        "                                'FILEJUDG', 'FILEMAG', 'MDLDOCK',  'TRANSDAT',\n",
        "                                'TRANSOFF', 'TRANSDOC', 'TRANSORG', 'TDATEUSE',\n",
        "                                'TRCLACT', 'TERMJUDG', 'TERMMAG', 'DJOINED',\n",
        "                                'PRETRIAL', 'TRIBEGAN', 'TRIALEND', 'AMTREC',\n",
        "                                'TRMARB', 'RESIDENC', 'PROSE', 'IFP'],\n",
        "                                 inplace=True)"
      ],
      "metadata": {
        "id": "6WbffMOP8elG"
      },
      "execution_count": 4,
      "outputs": []
    },
    {
      "cell_type": "code",
      "source": [
        "clean_JFC_patents.head()"
      ],
      "metadata": {
        "id": "gn7UWe7y8-0v"
      },
      "execution_count": null,
      "outputs": []
    },
    {
      "cell_type": "code",
      "source": [
        "dummies = pd.get_dummies(clean_JFC_patents['NOS'])\n",
        "clean_JFC_patents = pd.concat([clean_JFC_patents, dummies], axis=1)\n",
        "\n",
        "dummies = pd.get_dummies(clean_JFC_patents['JUDGMENT'])\n",
        "clean_JFC_patents = pd.concat([clean_JFC_patents, dummies], axis=1)"
      ],
      "metadata": {
        "id": "NkHO560V_Hvm"
      },
      "execution_count": null,
      "outputs": []
    },
    {
      "cell_type": "code",
      "source": [
        "clean_JFC_patents = clean_JFC_patents.rename(columns={830: 'Patent', 840: 'Trademark'}).drop(columns='NOS')\n",
        "clean_JFC_patents = clean_JFC_patents.rename(columns={-8: 'Missing',0: 'Missing', 1: 'Plaintiff', 2: 'Defendent',3: 'both', 4: 'Unkown' }).drop(columns='JUDGMENT')"
      ],
      "metadata": {
        "id": "SHC8dLfnAuuG"
      },
      "execution_count": null,
      "outputs": []
    },
    {
      "cell_type": "code",
      "source": [
        "clean_JFC_patents.loc[clean_JFC_patents['CLASSACT'] == -8, 'CLASSACT'] = 0"
      ],
      "metadata": {
        "id": "2a1wXKNACP2h"
      },
      "execution_count": null,
      "outputs": []
    },
    {
      "cell_type": "code",
      "source": [
        "cases = pd.read_csv('/content/drive/MyDrive/ECO225_Final_Project/PART1/cases.csv')\n",
        "cases = cases[['case_row_id', 'case_number', 'case_name', 'case_cause', 'date_filed', 'date_closed', 'jurisdictional_basis']]"
      ],
      "metadata": {
        "id": "ChOAbHvZDqax"
      },
      "execution_count": null,
      "outputs": []
    },
    {
      "cell_type": "code",
      "source": [
        "clean_JFC_patents['unique_identifier'] = clean_JFC_patents['DOCKET'].astype(str).str[:2] + \"-cv-\" + clean_JFC_patents['DOCKET'].astype(str).str[2:]\n",
        "clean_JFC_patents['unique_identifier'] = clean_JFC_patents['JURIS'].astype(str) + \"-\" + clean_JFC_patents['FILEDATE'].astype(str).str.split(\"/\").str[0] + \"/\" + clean_JFC_patents['FILEDATE'].astype(str).str.split(\"/\").str[1] + \"/\" + clean_JFC_patents['unique_identifier'].astype(str)\n",
        "clean_JFC_patents['unique_identifier'] = clean_JFC_patents['unique_identifier'] + \"-\" + clean_JFC_patents['TERMDATE'].astype(str)\n",
        "\n",
        "#creating common unique identifier to match JFC dataset with\n",
        "#creating common unique identifier to match JFC dataset with\n",
        "cases['unique_identifier'] = cases['case_number'].astype(str).str.split(\":\", n=1).str[-1]\n",
        "cases['unique_identifier'] = cases['date_filed'].astype(str).str.split(\"-\").str[1] + \"/\" + cases['date_filed'].astype(str).str.split(\"-\").str[2] + \"/\" +cases['unique_identifier'].astype(str)\n",
        "\n",
        "for index, row in cases.iterrows():\n",
        "    if row['jurisdictional_basis'] == \"Federal Question\":\n",
        "        cases.loc[index, 'unique_identifier'] = \"3-\" + row['unique_identifier']\n",
        "    elif row['jurisdictional_basis'] == \"U.S. Government Plaintiff\":\n",
        "        cases.loc[index, 'unique_identifier'] = \"1-\" + row['unique_identifier']\n",
        "    elif row['jurisdictional_basis'] == \"U.S. Government Defendant\":\n",
        "        cases.loc[index, 'unique_identifier'] = \"2-\" + row['unique_identifier']\n",
        "    elif row['jurisdictional_basis'] == \"Diversity\":\n",
        "        cases.loc[index, 'unique_identifier'] = \"4-\" + row['unique_identifier']\n",
        "\n",
        "cases['unique_identifier'] = cases['unique_identifier'] + \"-\" + cases['date_closed'].astype(str).str.split(\"-\").str[1] + \"/\" + cases['date_closed'].astype(str).str.split(\"-\").str[2] + \"/\" + cases['date_closed'].astype(str).str.split(\"-\").str[0]"
      ],
      "metadata": {
        "id": "-TMhMriOEPx-"
      },
      "execution_count": null,
      "outputs": []
    },
    {
      "cell_type": "code",
      "source": [
        "clean_JFC_patents"
      ],
      "metadata": {
        "id": "J-NqivW-E-1G"
      },
      "execution_count": null,
      "outputs": []
    },
    {
      "cell_type": "code",
      "source": [
        "cases.head()"
      ],
      "metadata": {
        "id": "7sIfNZmaF0fg"
      },
      "execution_count": null,
      "outputs": []
    },
    {
      "cell_type": "code",
      "source": [
        "merged = pd.merge(cases, clean_JFC_patents, on='unique_identifier', how='inner')"
      ],
      "metadata": {
        "id": "ZZTLzt-8FQF8"
      },
      "execution_count": null,
      "outputs": []
    },
    {
      "cell_type": "code",
      "source": [
        "merged"
      ],
      "metadata": {
        "id": "CVizfK9lFU0W"
      },
      "execution_count": null,
      "outputs": []
    },
    {
      "cell_type": "code",
      "source": [
        "matched_cases = pd.DataFrame(merged['case_number'].unique())"
      ],
      "metadata": {
        "id": "kWnyHF7FOC4O"
      },
      "execution_count": null,
      "outputs": []
    },
    {
      "cell_type": "code",
      "source": [
        "merged.groupby('case_number')['unique_identifier'].nunique().value_counts()"
      ],
      "metadata": {
        "id": "4DyKMtbNUP4J"
      },
      "execution_count": null,
      "outputs": []
    },
    {
      "cell_type": "code",
      "source": [
        "matched_cases"
      ],
      "metadata": {
        "id": "8LQPHMLzT9EJ"
      },
      "execution_count": null,
      "outputs": []
    },
    {
      "cell_type": "code",
      "source": [
        "documents = pd.read_csv('/content/drive/MyDrive/ECO225_Final_Project/PART1/documents.csv')"
      ],
      "metadata": {
        "id": "T5G4gA_lUg3L"
      },
      "execution_count": null,
      "outputs": []
    },
    {
      "cell_type": "code",
      "source": [
        "matched_cases['case_number'] = matched_cases[0]\n",
        "matched_cases.drop(columns=[0], inplace=True)"
      ],
      "metadata": {
        "id": "qGpVn5HYU2ei"
      },
      "execution_count": null,
      "outputs": []
    },
    {
      "cell_type": "code",
      "source": [
        "merged_docs = pd.merge(matched_cases, documents, on='case_number', how='inner')"
      ],
      "metadata": {
        "id": "5kw5bmb2Ui6P"
      },
      "execution_count": null,
      "outputs": []
    },
    {
      "cell_type": "code",
      "source": [
        "merged_docs"
      ],
      "metadata": {
        "id": "B8UdggDSUmX_"
      },
      "execution_count": null,
      "outputs": []
    },
    {
      "cell_type": "code",
      "source": [
        "merged_docs['long_description'].notna().sum() / merged_docs['case_number'].nunique()"
      ],
      "metadata": {
        "id": "HJJkeEMSVKo9"
      },
      "execution_count": null,
      "outputs": []
    }
  ]
}