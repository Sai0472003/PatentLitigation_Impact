{
  "nbformat": 4,
  "nbformat_minor": 0,
  "metadata": {
    "colab": {
      "provenance": [],
      "authorship_tag": "ABX9TyPxgIREezH298VUygNX4Y7M"
    },
    "kernelspec": {
      "name": "python3",
      "display_name": "Python 3"
    },
    "language_info": {
      "name": "python"
    }
  },
  "cells": [
    {
      "cell_type": "markdown",
      "source": [],
      "metadata": {
        "id": "LuERIH2mi6mQ"
      }
    },
    {
      "cell_type": "markdown",
      "source": [
        "# ***Imputing Case Outcomes***\n",
        "\n",
        "Since legalBERT is really hard to train with my current computer power, let's try alternative ML algorithms to predict case outcomes and apply MONTE CARLO estimation of f(P_correct_prediction), so we can factor that while fitting a GLM to the imputed case outcomes."
      ],
      "metadata": {
        "id": "DT5nwsMei61M"
      }
    },
    {
      "cell_type": "code",
      "execution_count": 1,
      "metadata": {
        "colab": {
          "base_uri": "https://localhost:8080/"
        },
        "id": "V6rpQmL6dJiv",
        "outputId": "d8abcab9-b73d-4c66-fd55-dcb01b7988d4"
      },
      "outputs": [
        {
          "output_type": "stream",
          "name": "stdout",
          "text": [
            "Drive already mounted at /content/drive; to attempt to forcibly remount, call drive.mount(\"/content/drive\", force_remount=True).\n"
          ]
        }
      ],
      "source": [
        "#importing packages\n",
        "import pandas as pd\n",
        "import numpy as np\n",
        "import matplotlib.pyplot as plt\n",
        "import re\n",
        "import os\n",
        "\n",
        "from google.colab import drive\n",
        "drive.mount('/content/drive')"
      ]
    },
    {
      "cell_type": "code",
      "source": [
        "#loading csv files\n",
        "cases = pd.read_csv('/content/drive/My Drive/ECO225_Final_Project/PART1/cases.csv')\n",
        "names = pd.read_csv('/content/drive/My Drive/ECO225_Final_Project/PART1/names.csv')\n",
        "attorneys = pd.read_csv('/content/drive/My Drive/ECO225_Final_Project/PART1/attorneys.csv')\n",
        "labelled_case_outcomes = pd.read_csv('/content/drive/My Drive/ECO225_Final_Project/PART1/labelled_case_outcomes.csv')"
      ],
      "metadata": {
        "colab": {
          "base_uri": "https://localhost:8080/"
        },
        "id": "Q7uYlaI_ddiJ",
        "outputId": "ea5d2e11-9e51-4d08-d197-6096811ba2de"
      },
      "execution_count": 28,
      "outputs": [
        {
          "output_type": "stream",
          "name": "stderr",
          "text": [
            "<ipython-input-28-03c39163892a>:3: DtypeWarning: Columns (0) have mixed types. Specify dtype option on import or set low_memory=False.\n",
            "  names = pd.read_csv('/content/drive/My Drive/ECO225_Final_Project/PART1/names.csv')\n"
          ]
        }
      ]
    },
    {
      "source": [
        "print(cases.columns,'\\n', names.columns,'\\n', attorneys.columns,'\\n',\n",
        "     '\\n', patents.columns)"
      ],
      "cell_type": "code",
      "metadata": {
        "id": "vFgthbvYgvYa",
        "outputId": "4f5a44a1-1e9a-4ecb-8047-8fb79b11233a",
        "colab": {
          "base_uri": "https://localhost:8080/"
        }
      },
      "execution_count": 29,
      "outputs": [
        {
          "output_type": "stream",
          "name": "stdout",
          "text": [
            "Index(['case_row_id', 'case_number', 'case_number_raw', 'district_id',\n",
            "       'court_name', 'pacer_id', 'case_name', 'assigned_to', 'referred_to',\n",
            "       'case_cause', 'jurisdictional_basis', 'date_filed', 'date_closed',\n",
            "       'date_last_filed', 'jury_demand', 'demand', 'lead_case', 'related_case',\n",
            "       'settlement', 'case_type_1', 'case_type_2', 'case_type_3',\n",
            "       'case_type_note'],\n",
            "      dtype='object') \n",
            " Index(['case_row_id', 'case_number', 'case_number_raw', 'district_id',\n",
            "       'party_row_count', 'party_type', 'name', 'name_long'],\n",
            "      dtype='object') \n",
            " Index(['case_row_id', 'case_number', 'case_number_raw', 'district_id',\n",
            "       'party_row_count', 'party_type', 'attorney_row_count', 'attorney_name',\n",
            "       'attorney_contactinfo', 'position'],\n",
            "      dtype='object') \n",
            " \n",
            " Index(['case_row_id', 'case_number', 'district_id', 'nos', 'date_filed',\n",
            "       'case_name', 'case_type_1', 'case_type_2', 'case_type_3',\n",
            "       'case_type_note', 'patent', 'patent_doc_type'],\n",
            "      dtype='object')\n"
          ]
        }
      ]
    },
    {
      "cell_type": "code",
      "source": [
        "#isolating useful features to predict case outcomes\n",
        "#had to leave out some useful features due to many NaN values : (\n",
        "clean_cases = pd.DataFrame(cases[['case_row_id', 'case_number', 'pacer_id',\n",
        "                                 'district_id', 'court_name', 'assigned_to',\n",
        "                                 'referred_to', 'case_cause',\n",
        "                                 'jurisdictional_basis', 'date_filed',\n",
        "                                 'date_closed', 'jury_demand','case_type_1']])\n",
        "\n",
        "#created a new columne to combine assigned_to and referred_to\n",
        "clean_cases['Judge'] = clean_cases['referred_to'].fillna(clean_cases[\n",
        "                                                              'assigned_to'])\n",
        "\n",
        "clean_names = pd.DataFrame(names[['case_row_id', 'case_number', 'party_type',\n",
        "                                  'name', 'name_long']])\n",
        "\n",
        "clean_attorneys = pd.DataFrame(attorneys[['case_row_id', 'case_number',\n",
        "                                          'party_type', 'attorney_name',\n",
        "                                          'position']])\n",
        "\n",
        "clean_outcomes = pd.DataFrame(labelled_case_outcomes[['case_row_id',\n",
        "                                                      'case_number',\n",
        "                                                      'Plaintiff']])\n"
      ],
      "metadata": {
        "id": "SPNHtxThisPQ"
      },
      "execution_count": 49,
      "outputs": []
    },
    {
      "cell_type": "code",
      "source": [
        "#adding in the case outcome variable into the cleaned dfs\n",
        "cases_and_outcomes = pd.merge(clean_cases, clean_outcomes, on = 'case_row_id')\n",
        "\n",
        "names_and_outcomes = pd.merge(clean_names, clean_outcomes, on = 'case_row_id')\n",
        "\n",
        "attorneys_and_outcomes = pd.merge(clean_attorneys, clean_outcomes,on = 'case_row_id')"
      ],
      "metadata": {
        "id": "72JeK-VOsCRB"
      },
      "execution_count": 52,
      "outputs": []
    },
    {
      "cell_type": "code",
      "source": [
        "len(clean_outcomes)"
      ],
      "metadata": {
        "id": "YaHnbFU-v2Bg",
        "outputId": "b062dea0-687b-4e25-b3bd-d18c1910810e",
        "colab": {
          "base_uri": "https://localhost:8080/"
        }
      },
      "execution_count": 55,
      "outputs": [
        {
          "output_type": "execute_result",
          "data": {
            "text/plain": [
              "6830"
            ]
          },
          "metadata": {},
          "execution_count": 55
        }
      ]
    }
  ]
}